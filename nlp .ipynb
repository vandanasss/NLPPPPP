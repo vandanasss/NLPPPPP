{
 "cells": [
  {
   "cell_type": "code",
   "execution_count": 3,
   "id": "6a1170b5",
   "metadata": {},
   "outputs": [
    {
     "name": "stdout",
     "output_type": "stream",
     "text": [
      "Requirement already satisfied: tensorflow-gpu in c:\\users\\samat\\anaconda3\\lib\\site-packages (2.10.0)\n",
      "Requirement already satisfied: grpcio<2.0,>=1.24.3 in c:\\users\\samat\\anaconda3\\lib\\site-packages (from tensorflow-gpu) (1.42.0)\n",
      "Requirement already satisfied: h5py>=2.9.0 in c:\\users\\samat\\anaconda3\\lib\\site-packages (from tensorflow-gpu) (3.6.0)\n",
      "Requirement already satisfied: keras-preprocessing>=1.1.1 in c:\\users\\samat\\anaconda3\\lib\\site-packages (from tensorflow-gpu) (1.1.2)\n",
      "Requirement already satisfied: numpy>=1.20 in c:\\users\\samat\\anaconda3\\lib\\site-packages (from tensorflow-gpu) (1.21.5)\n",
      "Requirement already satisfied: libclang>=13.0.0 in c:\\users\\samat\\anaconda3\\lib\\site-packages (from tensorflow-gpu) (14.0.6)\n",
      "Requirement already satisfied: packaging in c:\\users\\samat\\anaconda3\\lib\\site-packages (from tensorflow-gpu) (21.3)\n",
      "Requirement already satisfied: astunparse>=1.6.0 in c:\\users\\samat\\anaconda3\\lib\\site-packages (from tensorflow-gpu) (1.6.3)\n",
      "Requirement already satisfied: absl-py>=1.0.0 in c:\\users\\samat\\anaconda3\\lib\\site-packages (from tensorflow-gpu) (1.2.0)\n",
      "Requirement already satisfied: protobuf<3.20,>=3.9.2 in c:\\users\\samat\\anaconda3\\lib\\site-packages (from tensorflow-gpu) (3.19.1)\n",
      "Requirement already satisfied: tensorflow-estimator<2.11,>=2.10.0 in c:\\users\\samat\\anaconda3\\lib\\site-packages (from tensorflow-gpu) (2.10.0)\n",
      "Requirement already satisfied: flatbuffers>=2.0 in c:\\users\\samat\\anaconda3\\lib\\site-packages (from tensorflow-gpu) (22.9.24)\n",
      "Requirement already satisfied: tensorboard<2.11,>=2.10 in c:\\users\\samat\\anaconda3\\lib\\site-packages (from tensorflow-gpu) (2.10.1)\n",
      "Requirement already satisfied: tensorflow-io-gcs-filesystem>=0.23.1 in c:\\users\\samat\\anaconda3\\lib\\site-packages (from tensorflow-gpu) (0.27.0)\n",
      "Requirement already satisfied: typing-extensions>=3.6.6 in c:\\users\\samat\\anaconda3\\lib\\site-packages (from tensorflow-gpu) (4.1.1)\n",
      "Requirement already satisfied: setuptools in c:\\users\\samat\\anaconda3\\lib\\site-packages (from tensorflow-gpu) (61.2.0)\n",
      "Requirement already satisfied: opt-einsum>=2.3.2 in c:\\users\\samat\\anaconda3\\lib\\site-packages (from tensorflow-gpu) (3.3.0)\n",
      "Requirement already satisfied: termcolor>=1.1.0 in c:\\users\\samat\\anaconda3\\lib\\site-packages (from tensorflow-gpu) (2.0.1)\n",
      "Requirement already satisfied: six>=1.12.0 in c:\\users\\samat\\anaconda3\\lib\\site-packages (from tensorflow-gpu) (1.16.0)\n",
      "Requirement already satisfied: gast<=0.4.0,>=0.2.1 in c:\\users\\samat\\anaconda3\\lib\\site-packages (from tensorflow-gpu) (0.4.0)\n",
      "Requirement already satisfied: google-pasta>=0.1.1 in c:\\users\\samat\\anaconda3\\lib\\site-packages (from tensorflow-gpu) (0.2.0)\n",
      "Requirement already satisfied: wrapt>=1.11.0 in c:\\users\\samat\\anaconda3\\lib\\site-packages (from tensorflow-gpu) (1.12.1)\n",
      "Requirement already satisfied: keras<2.11,>=2.10.0 in c:\\users\\samat\\anaconda3\\lib\\site-packages (from tensorflow-gpu) (2.10.0)\n",
      "Requirement already satisfied: wheel<1.0,>=0.23.0 in c:\\users\\samat\\anaconda3\\lib\\site-packages (from astunparse>=1.6.0->tensorflow-gpu) (0.37.1)\n",
      "Requirement already satisfied: google-auth-oauthlib<0.5,>=0.4.1 in c:\\users\\samat\\anaconda3\\lib\\site-packages (from tensorboard<2.11,>=2.10->tensorflow-gpu) (0.4.6)\n",
      "Requirement already satisfied: markdown>=2.6.8 in c:\\users\\samat\\anaconda3\\lib\\site-packages (from tensorboard<2.11,>=2.10->tensorflow-gpu) (3.3.4)\n",
      "Requirement already satisfied: google-auth<3,>=1.6.3 in c:\\users\\samat\\anaconda3\\lib\\site-packages (from tensorboard<2.11,>=2.10->tensorflow-gpu) (1.33.0)\n",
      "Requirement already satisfied: tensorboard-plugin-wit>=1.6.0 in c:\\users\\samat\\anaconda3\\lib\\site-packages (from tensorboard<2.11,>=2.10->tensorflow-gpu) (1.8.1)\n",
      "Requirement already satisfied: werkzeug>=1.0.1 in c:\\users\\samat\\anaconda3\\lib\\site-packages (from tensorboard<2.11,>=2.10->tensorflow-gpu) (2.0.3)\n",
      "Requirement already satisfied: requests<3,>=2.21.0 in c:\\users\\samat\\anaconda3\\lib\\site-packages (from tensorboard<2.11,>=2.10->tensorflow-gpu) (2.27.1)\n",
      "Requirement already satisfied: tensorboard-data-server<0.7.0,>=0.6.0 in c:\\users\\samat\\anaconda3\\lib\\site-packages (from tensorboard<2.11,>=2.10->tensorflow-gpu) (0.6.1)\n",
      "Requirement already satisfied: rsa<5,>=3.1.4 in c:\\users\\samat\\anaconda3\\lib\\site-packages (from google-auth<3,>=1.6.3->tensorboard<2.11,>=2.10->tensorflow-gpu) (4.7.2)\n",
      "Requirement already satisfied: cachetools<5.0,>=2.0.0 in c:\\users\\samat\\anaconda3\\lib\\site-packages (from google-auth<3,>=1.6.3->tensorboard<2.11,>=2.10->tensorflow-gpu) (4.2.2)\n",
      "Requirement already satisfied: pyasn1-modules>=0.2.1 in c:\\users\\samat\\anaconda3\\lib\\site-packages (from google-auth<3,>=1.6.3->tensorboard<2.11,>=2.10->tensorflow-gpu) (0.2.8)\n",
      "Requirement already satisfied: requests-oauthlib>=0.7.0 in c:\\users\\samat\\anaconda3\\lib\\site-packages (from google-auth-oauthlib<0.5,>=0.4.1->tensorboard<2.11,>=2.10->tensorflow-gpu) (1.3.1)\n",
      "Requirement already satisfied: pyasn1<0.5.0,>=0.4.6 in c:\\users\\samat\\anaconda3\\lib\\site-packages (from pyasn1-modules>=0.2.1->google-auth<3,>=1.6.3->tensorboard<2.11,>=2.10->tensorflow-gpu) (0.4.8)\n",
      "Requirement already satisfied: charset-normalizer~=2.0.0 in c:\\users\\samat\\anaconda3\\lib\\site-packages (from requests<3,>=2.21.0->tensorboard<2.11,>=2.10->tensorflow-gpu) (2.0.4)\n",
      "Requirement already satisfied: certifi>=2017.4.17 in c:\\users\\samat\\anaconda3\\lib\\site-packages (from requests<3,>=2.21.0->tensorboard<2.11,>=2.10->tensorflow-gpu) (2021.10.8)\n",
      "Requirement already satisfied: urllib3<1.27,>=1.21.1 in c:\\users\\samat\\anaconda3\\lib\\site-packages (from requests<3,>=2.21.0->tensorboard<2.11,>=2.10->tensorflow-gpu) (1.26.9)\n",
      "Requirement already satisfied: idna<4,>=2.5 in c:\\users\\samat\\anaconda3\\lib\\site-packages (from requests<3,>=2.21.0->tensorboard<2.11,>=2.10->tensorflow-gpu) (3.3)\n",
      "Requirement already satisfied: oauthlib>=3.0.0 in c:\\users\\samat\\anaconda3\\lib\\site-packages (from requests-oauthlib>=0.7.0->google-auth-oauthlib<0.5,>=0.4.1->tensorboard<2.11,>=2.10->tensorflow-gpu) (3.2.1)\n",
      "Requirement already satisfied: pyparsing!=3.0.5,>=2.0.2 in c:\\users\\samat\\anaconda3\\lib\\site-packages (from packaging->tensorflow-gpu) (3.0.4)\n"
     ]
    }
   ],
   "source": [
    "!pip install tensorflow-gpu"
   ]
  },
  {
   "cell_type": "code",
   "execution_count": 4,
   "id": "a252f01f",
   "metadata": {},
   "outputs": [
    {
     "name": "stdout",
     "output_type": "stream",
     "text": [
      "2.10.0\n"
     ]
    }
   ],
   "source": [
    "import tensorflow as tf\n",
    "print(tf.__version__)"
   ]
  },
  {
   "cell_type": "code",
   "execution_count": 5,
   "id": "1a1e8235",
   "metadata": {},
   "outputs": [],
   "source": [
    "##tensorflow >2.0\n",
    "from tensorflow.keras.preprocessing.text import one_hot"
   ]
  },
  {
   "cell_type": "code",
   "execution_count": 6,
   "id": "5ba44e84",
   "metadata": {},
   "outputs": [],
   "source": [
    "### sentences\n",
    "sent=[  'the glass of milk',\n",
    "     'the glass of juice',\n",
    "     'the cup of tea',\n",
    "    'I am a good boy',\n",
    "     'I am a good developer',\n",
    "     'understand the meaning of words',\n",
    "     'your videos are good']"
   ]
  },
  {
   "cell_type": "code",
   "execution_count": 7,
   "id": "f7badc20",
   "metadata": {},
   "outputs": [
    {
     "data": {
      "text/plain": [
       "['the glass of milk',\n",
       " 'the glass of juice',\n",
       " 'the cup of tea',\n",
       " 'I am a good boy',\n",
       " 'I am a good developer',\n",
       " 'understand the meaning of words',\n",
       " 'your videos are good']"
      ]
     },
     "execution_count": 7,
     "metadata": {},
     "output_type": "execute_result"
    }
   ],
   "source": [
    "sent"
   ]
  },
  {
   "cell_type": "code",
   "execution_count": 8,
   "id": "1e9fb4f5",
   "metadata": {},
   "outputs": [],
   "source": [
    "### Vocabulary size\n",
    "voc_size=500"
   ]
  },
  {
   "cell_type": "markdown",
   "id": "0ad2b5d4",
   "metadata": {},
   "source": [
    "One hot representation\n"
   ]
  },
  {
   "cell_type": "code",
   "execution_count": 9,
   "id": "ae6f82e5",
   "metadata": {},
   "outputs": [
    {
     "name": "stdout",
     "output_type": "stream",
     "text": [
      "[[207, 129, 345, 426], [207, 129, 345, 122], [207, 325, 345, 23], [295, 406, 205, 420, 70], [295, 406, 205, 420, 43], [457, 207, 150, 345, 348], [214, 348, 253, 420]]\n"
     ]
    }
   ],
   "source": [
    "onehot_repr=[one_hot(words,voc_size)for words in sent] \n",
    "print(onehot_repr)"
   ]
  },
  {
   "cell_type": "markdown",
   "id": "414cdb84",
   "metadata": {},
   "source": [
    "## WORD EMBEDDING"
   ]
  },
  {
   "cell_type": "code",
   "execution_count": 10,
   "id": "4214d995",
   "metadata": {},
   "outputs": [],
   "source": [
    "from tensorflow.keras.layers import Embedding\n",
    "from tensorflow.keras.preprocessing.sequence import pad_sequences\n",
    "from tensorflow.keras.models import Sequential"
   ]
  },
  {
   "cell_type": "code",
   "execution_count": 11,
   "id": "ff759b03",
   "metadata": {},
   "outputs": [],
   "source": [
    "import numpy as np"
   ]
  },
  {
   "cell_type": "code",
   "execution_count": 12,
   "id": "7df9bb95",
   "metadata": {},
   "outputs": [
    {
     "name": "stdout",
     "output_type": "stream",
     "text": [
      "[[  0   0   0   0 207 129 345 426]\n",
      " [  0   0   0   0 207 129 345 122]\n",
      " [  0   0   0   0 207 325 345  23]\n",
      " [  0   0   0 295 406 205 420  70]\n",
      " [  0   0   0 295 406 205 420  43]\n",
      " [  0   0   0 457 207 150 345 348]\n",
      " [  0   0   0   0 214 348 253 420]]\n"
     ]
    }
   ],
   "source": [
    "## pre padding\n",
    "sent_length=8\n",
    "embedded_docs=pad_sequences(onehot_repr,padding='pre',maxlen=sent_length)\n",
    "print(embedded_docs)"
   ]
  },
  {
   "cell_type": "code",
   "execution_count": 13,
   "id": "75f9e5a0",
   "metadata": {},
   "outputs": [],
   "source": [
    "## 10 feature dimesnions\n",
    "dim=10"
   ]
  },
  {
   "cell_type": "code",
   "execution_count": 14,
   "id": "20fe687d",
   "metadata": {},
   "outputs": [],
   "source": [
    "model=Sequential()\n",
    "model.add(Embedding(voc_size,10,input_length=sent_length))\n",
    "model.compile('adam','mse')"
   ]
  },
  {
   "cell_type": "code",
   "execution_count": 15,
   "id": "882aace0",
   "metadata": {},
   "outputs": [
    {
     "name": "stdout",
     "output_type": "stream",
     "text": [
      "Model: \"sequential\"\n",
      "_________________________________________________________________\n",
      " Layer (type)                Output Shape              Param #   \n",
      "=================================================================\n",
      " embedding (Embedding)       (None, 8, 10)             5000      \n",
      "                                                                 \n",
      "=================================================================\n",
      "Total params: 5,000\n",
      "Trainable params: 5,000\n",
      "Non-trainable params: 0\n",
      "_________________________________________________________________\n"
     ]
    }
   ],
   "source": [
    "model.summary()"
   ]
  },
  {
   "cell_type": "code",
   "execution_count": 16,
   "id": "3d5fdffd",
   "metadata": {},
   "outputs": [
    {
     "data": {
      "text/plain": [
       "array([  0,   0,   0,   0, 207, 129, 345, 426])"
      ]
     },
     "execution_count": 16,
     "metadata": {},
     "output_type": "execute_result"
    }
   ],
   "source": [
    "##'the glass of milk',\n",
    "embedded_docs[0]"
   ]
  },
  {
   "cell_type": "code",
   "execution_count": 17,
   "id": "e8c89897",
   "metadata": {},
   "outputs": [
    {
     "name": "stdout",
     "output_type": "stream",
     "text": [
      "WARNING:tensorflow:Model was constructed with shape (None, 8) for input KerasTensor(type_spec=TensorSpec(shape=(None, 8), dtype=tf.float32, name='embedding_input'), name='embedding_input', description=\"created by layer 'embedding_input'\"), but it was called on an input with incompatible shape (None,).\n",
      "1/1 [==============================] - 0s 238ms/step\n"
     ]
    },
    {
     "data": {
      "text/plain": [
       "array([[-0.02663502, -0.04278461,  0.04892448,  0.00010413, -0.02244438,\n",
       "         0.04565103,  0.04187149,  0.01979811, -0.03356123,  0.01124484],\n",
       "       [-0.02663502, -0.04278461,  0.04892448,  0.00010413, -0.02244438,\n",
       "         0.04565103,  0.04187149,  0.01979811, -0.03356123,  0.01124484],\n",
       "       [-0.02663502, -0.04278461,  0.04892448,  0.00010413, -0.02244438,\n",
       "         0.04565103,  0.04187149,  0.01979811, -0.03356123,  0.01124484],\n",
       "       [-0.02663502, -0.04278461,  0.04892448,  0.00010413, -0.02244438,\n",
       "         0.04565103,  0.04187149,  0.01979811, -0.03356123,  0.01124484],\n",
       "       [-0.04399748, -0.0019868 ,  0.02140078,  0.04470937, -0.04319723,\n",
       "         0.03349524, -0.02846998,  0.03647855,  0.00864259,  0.03549374],\n",
       "       [ 0.00196953,  0.04008019,  0.03637997, -0.04244492, -0.0475329 ,\n",
       "         0.02088132, -0.04133569, -0.04103713, -0.03902351, -0.04525421],\n",
       "       [ 0.01668138, -0.00842345,  0.01482159, -0.04834322, -0.03314646,\n",
       "        -0.0454872 ,  0.01464976, -0.02052561,  0.042796  ,  0.03080383],\n",
       "       [-0.0166008 ,  0.04186703, -0.01624123,  0.04187683,  0.03066821,\n",
       "        -0.04787226, -0.00481341, -0.04951798,  0.00268587,  0.00529528]],\n",
       "      dtype=float32)"
      ]
     },
     "execution_count": 17,
     "metadata": {},
     "output_type": "execute_result"
    }
   ],
   "source": [
    "model.predict(embedded_docs[0])"
   ]
  },
  {
   "cell_type": "code",
   "execution_count": 18,
   "id": "55786168",
   "metadata": {},
   "outputs": [
    {
     "name": "stdout",
     "output_type": "stream",
     "text": [
      "1/1 [==============================] - 0s 94ms/step\n",
      "[[[-0.02663502 -0.04278461  0.04892448  0.00010413 -0.02244438\n",
      "    0.04565103  0.04187149  0.01979811 -0.03356123  0.01124484]\n",
      "  [-0.02663502 -0.04278461  0.04892448  0.00010413 -0.02244438\n",
      "    0.04565103  0.04187149  0.01979811 -0.03356123  0.01124484]\n",
      "  [-0.02663502 -0.04278461  0.04892448  0.00010413 -0.02244438\n",
      "    0.04565103  0.04187149  0.01979811 -0.03356123  0.01124484]\n",
      "  [-0.02663502 -0.04278461  0.04892448  0.00010413 -0.02244438\n",
      "    0.04565103  0.04187149  0.01979811 -0.03356123  0.01124484]\n",
      "  [-0.04399748 -0.0019868   0.02140078  0.04470937 -0.04319723\n",
      "    0.03349524 -0.02846998  0.03647855  0.00864259  0.03549374]\n",
      "  [ 0.00196953  0.04008019  0.03637997 -0.04244492 -0.0475329\n",
      "    0.02088132 -0.04133569 -0.04103713 -0.03902351 -0.04525421]\n",
      "  [ 0.01668138 -0.00842345  0.01482159 -0.04834322 -0.03314646\n",
      "   -0.0454872   0.01464976 -0.02052561  0.042796    0.03080383]\n",
      "  [-0.0166008   0.04186703 -0.01624123  0.04187683  0.03066821\n",
      "   -0.04787226 -0.00481341 -0.04951798  0.00268587  0.00529528]]\n",
      "\n",
      " [[-0.02663502 -0.04278461  0.04892448  0.00010413 -0.02244438\n",
      "    0.04565103  0.04187149  0.01979811 -0.03356123  0.01124484]\n",
      "  [-0.02663502 -0.04278461  0.04892448  0.00010413 -0.02244438\n",
      "    0.04565103  0.04187149  0.01979811 -0.03356123  0.01124484]\n",
      "  [-0.02663502 -0.04278461  0.04892448  0.00010413 -0.02244438\n",
      "    0.04565103  0.04187149  0.01979811 -0.03356123  0.01124484]\n",
      "  [-0.02663502 -0.04278461  0.04892448  0.00010413 -0.02244438\n",
      "    0.04565103  0.04187149  0.01979811 -0.03356123  0.01124484]\n",
      "  [-0.04399748 -0.0019868   0.02140078  0.04470937 -0.04319723\n",
      "    0.03349524 -0.02846998  0.03647855  0.00864259  0.03549374]\n",
      "  [ 0.00196953  0.04008019  0.03637997 -0.04244492 -0.0475329\n",
      "    0.02088132 -0.04133569 -0.04103713 -0.03902351 -0.04525421]\n",
      "  [ 0.01668138 -0.00842345  0.01482159 -0.04834322 -0.03314646\n",
      "   -0.0454872   0.01464976 -0.02052561  0.042796    0.03080383]\n",
      "  [ 0.04227276  0.02639956 -0.04053385 -0.03577315 -0.01920219\n",
      "   -0.04622138 -0.00616883  0.03924546 -0.00512444 -0.03577727]]\n",
      "\n",
      " [[-0.02663502 -0.04278461  0.04892448  0.00010413 -0.02244438\n",
      "    0.04565103  0.04187149  0.01979811 -0.03356123  0.01124484]\n",
      "  [-0.02663502 -0.04278461  0.04892448  0.00010413 -0.02244438\n",
      "    0.04565103  0.04187149  0.01979811 -0.03356123  0.01124484]\n",
      "  [-0.02663502 -0.04278461  0.04892448  0.00010413 -0.02244438\n",
      "    0.04565103  0.04187149  0.01979811 -0.03356123  0.01124484]\n",
      "  [-0.02663502 -0.04278461  0.04892448  0.00010413 -0.02244438\n",
      "    0.04565103  0.04187149  0.01979811 -0.03356123  0.01124484]\n",
      "  [-0.04399748 -0.0019868   0.02140078  0.04470937 -0.04319723\n",
      "    0.03349524 -0.02846998  0.03647855  0.00864259  0.03549374]\n",
      "  [ 0.00075009 -0.03501087  0.02924266 -0.0192187   0.00793241\n",
      "   -0.0440863   0.04895336  0.01177484  0.03115899 -0.04590125]\n",
      "  [ 0.01668138 -0.00842345  0.01482159 -0.04834322 -0.03314646\n",
      "   -0.0454872   0.01464976 -0.02052561  0.042796    0.03080383]\n",
      "  [ 0.04904528 -0.04940842 -0.04063264 -0.00952051  0.03755054\n",
      "   -0.03266048 -0.02544757 -0.02031417  0.01702813 -0.04845207]]\n",
      "\n",
      " [[-0.02663502 -0.04278461  0.04892448  0.00010413 -0.02244438\n",
      "    0.04565103  0.04187149  0.01979811 -0.03356123  0.01124484]\n",
      "  [-0.02663502 -0.04278461  0.04892448  0.00010413 -0.02244438\n",
      "    0.04565103  0.04187149  0.01979811 -0.03356123  0.01124484]\n",
      "  [-0.02663502 -0.04278461  0.04892448  0.00010413 -0.02244438\n",
      "    0.04565103  0.04187149  0.01979811 -0.03356123  0.01124484]\n",
      "  [ 0.03432112  0.00281304 -0.01359417 -0.00575205 -0.04805968\n",
      "   -0.0161769   0.01325843 -0.02832712  0.01701644 -0.03199189]\n",
      "  [-0.01857102 -0.01825917 -0.01133478 -0.0140432   0.04701677\n",
      "   -0.03614688 -0.04049549 -0.00370898 -0.0352607  -0.01353192]\n",
      "  [-0.02683976 -0.00045114  0.01569181 -0.03826765 -0.004846\n",
      "    0.02046235 -0.03379573 -0.04137591 -0.02053962  0.01714547]\n",
      "  [-0.01370976  0.03221382 -0.02218673 -0.03094487  0.01389139\n",
      "    0.03861595 -0.03278653 -0.00249676 -0.0236626  -0.00085133]\n",
      "  [ 0.01012104  0.02030336 -0.04282577  0.01383639 -0.04290296\n",
      "   -0.01258874  0.04805776  0.02979646  0.01842895  0.00522111]]\n",
      "\n",
      " [[-0.02663502 -0.04278461  0.04892448  0.00010413 -0.02244438\n",
      "    0.04565103  0.04187149  0.01979811 -0.03356123  0.01124484]\n",
      "  [-0.02663502 -0.04278461  0.04892448  0.00010413 -0.02244438\n",
      "    0.04565103  0.04187149  0.01979811 -0.03356123  0.01124484]\n",
      "  [-0.02663502 -0.04278461  0.04892448  0.00010413 -0.02244438\n",
      "    0.04565103  0.04187149  0.01979811 -0.03356123  0.01124484]\n",
      "  [ 0.03432112  0.00281304 -0.01359417 -0.00575205 -0.04805968\n",
      "   -0.0161769   0.01325843 -0.02832712  0.01701644 -0.03199189]\n",
      "  [-0.01857102 -0.01825917 -0.01133478 -0.0140432   0.04701677\n",
      "   -0.03614688 -0.04049549 -0.00370898 -0.0352607  -0.01353192]\n",
      "  [-0.02683976 -0.00045114  0.01569181 -0.03826765 -0.004846\n",
      "    0.02046235 -0.03379573 -0.04137591 -0.02053962  0.01714547]\n",
      "  [-0.01370976  0.03221382 -0.02218673 -0.03094487  0.01389139\n",
      "    0.03861595 -0.03278653 -0.00249676 -0.0236626  -0.00085133]\n",
      "  [ 0.04878012 -0.02666644  0.02352104 -0.01895645  0.04099621\n",
      "   -0.04251296 -0.04400777  0.00488041  0.03222135  0.04665884]]\n",
      "\n",
      " [[-0.02663502 -0.04278461  0.04892448  0.00010413 -0.02244438\n",
      "    0.04565103  0.04187149  0.01979811 -0.03356123  0.01124484]\n",
      "  [-0.02663502 -0.04278461  0.04892448  0.00010413 -0.02244438\n",
      "    0.04565103  0.04187149  0.01979811 -0.03356123  0.01124484]\n",
      "  [-0.02663502 -0.04278461  0.04892448  0.00010413 -0.02244438\n",
      "    0.04565103  0.04187149  0.01979811 -0.03356123  0.01124484]\n",
      "  [-0.01826378 -0.01059356  0.04109888  0.01469285 -0.03156363\n",
      "    0.02334963  0.0414882   0.04305108 -0.01406152  0.01911699]\n",
      "  [-0.04399748 -0.0019868   0.02140078  0.04470937 -0.04319723\n",
      "    0.03349524 -0.02846998  0.03647855  0.00864259  0.03549374]\n",
      "  [ 0.01169288 -0.02524142 -0.02313313 -0.00214247 -0.0009716\n",
      "   -0.03157636 -0.03826753  0.01380985 -0.0237404   0.03586728]\n",
      "  [ 0.01668138 -0.00842345  0.01482159 -0.04834322 -0.03314646\n",
      "   -0.0454872   0.01464976 -0.02052561  0.042796    0.03080383]\n",
      "  [ 0.01918456 -0.02529308  0.00454379 -0.00529516 -0.04366331\n",
      "   -0.02219225 -0.03459539  0.03652558 -0.02533425 -0.02615186]]\n",
      "\n",
      " [[-0.02663502 -0.04278461  0.04892448  0.00010413 -0.02244438\n",
      "    0.04565103  0.04187149  0.01979811 -0.03356123  0.01124484]\n",
      "  [-0.02663502 -0.04278461  0.04892448  0.00010413 -0.02244438\n",
      "    0.04565103  0.04187149  0.01979811 -0.03356123  0.01124484]\n",
      "  [-0.02663502 -0.04278461  0.04892448  0.00010413 -0.02244438\n",
      "    0.04565103  0.04187149  0.01979811 -0.03356123  0.01124484]\n",
      "  [-0.02663502 -0.04278461  0.04892448  0.00010413 -0.02244438\n",
      "    0.04565103  0.04187149  0.01979811 -0.03356123  0.01124484]\n",
      "  [-0.02072858  0.00345948 -0.01316365 -0.00772692  0.00795888\n",
      "   -0.04345312 -0.01086373  0.02488596  0.03564538  0.0307312 ]\n",
      "  [ 0.01918456 -0.02529308  0.00454379 -0.00529516 -0.04366331\n",
      "   -0.02219225 -0.03459539  0.03652558 -0.02533425 -0.02615186]\n",
      "  [ 0.01083402 -0.02800696  0.00583135 -0.01049185  0.02627206\n",
      "    0.02876173 -0.00488817  0.04231303 -0.00764811 -0.0350978 ]\n",
      "  [-0.01370976  0.03221382 -0.02218673 -0.03094487  0.01389139\n",
      "    0.03861595 -0.03278653 -0.00249676 -0.0236626  -0.00085133]]]\n"
     ]
    }
   ],
   "source": [
    "print(model.predict(embedded_docs))"
   ]
  },
  {
   "cell_type": "code",
   "execution_count": 19,
   "id": "9f312555",
   "metadata": {},
   "outputs": [
    {
     "data": {
      "text/plain": [
       "array([  0,   0,   0,   0, 207, 129, 345, 426])"
      ]
     },
     "execution_count": 19,
     "metadata": {},
     "output_type": "execute_result"
    }
   ],
   "source": [
    "embedded_docs[0]"
   ]
  },
  {
   "cell_type": "code",
   "execution_count": 20,
   "id": "f1c819fa",
   "metadata": {},
   "outputs": [
    {
     "name": "stdout",
     "output_type": "stream",
     "text": [
      "1/1 [==============================] - 0s 47ms/step\n",
      "[[-0.02663502 -0.04278461  0.04892448  0.00010413 -0.02244438  0.04565103\n",
      "   0.04187149  0.01979811 -0.03356123  0.01124484]\n",
      " [-0.02663502 -0.04278461  0.04892448  0.00010413 -0.02244438  0.04565103\n",
      "   0.04187149  0.01979811 -0.03356123  0.01124484]\n",
      " [-0.02663502 -0.04278461  0.04892448  0.00010413 -0.02244438  0.04565103\n",
      "   0.04187149  0.01979811 -0.03356123  0.01124484]\n",
      " [-0.02663502 -0.04278461  0.04892448  0.00010413 -0.02244438  0.04565103\n",
      "   0.04187149  0.01979811 -0.03356123  0.01124484]\n",
      " [-0.04399748 -0.0019868   0.02140078  0.04470937 -0.04319723  0.03349524\n",
      "  -0.02846998  0.03647855  0.00864259  0.03549374]\n",
      " [ 0.00196953  0.04008019  0.03637997 -0.04244492 -0.0475329   0.02088132\n",
      "  -0.04133569 -0.04103713 -0.03902351 -0.04525421]\n",
      " [ 0.01668138 -0.00842345  0.01482159 -0.04834322 -0.03314646 -0.0454872\n",
      "   0.01464976 -0.02052561  0.042796    0.03080383]\n",
      " [-0.0166008   0.04186703 -0.01624123  0.04187683  0.03066821 -0.04787226\n",
      "  -0.00481341 -0.04951798  0.00268587  0.00529528]]\n"
     ]
    }
   ],
   "source": [
    "print(model.predict(embedded_docs)[0])"
   ]
  },
  {
   "cell_type": "code",
   "execution_count": null,
   "id": "7b6253b8",
   "metadata": {},
   "outputs": [],
   "source": []
  },
  {
   "cell_type": "code",
   "execution_count": null,
   "id": "1a2d831e",
   "metadata": {},
   "outputs": [],
   "source": []
  },
  {
   "cell_type": "code",
   "execution_count": null,
   "id": "48580d17",
   "metadata": {},
   "outputs": [],
   "source": []
  },
  {
   "cell_type": "code",
   "execution_count": null,
   "id": "4f0c50a4",
   "metadata": {},
   "outputs": [],
   "source": []
  },
  {
   "cell_type": "code",
   "execution_count": null,
   "id": "d634a440",
   "metadata": {},
   "outputs": [],
   "source": []
  },
  {
   "cell_type": "code",
   "execution_count": null,
   "id": "1084bfaf",
   "metadata": {},
   "outputs": [],
   "source": []
  },
  {
   "cell_type": "code",
   "execution_count": null,
   "id": "16130f73",
   "metadata": {},
   "outputs": [],
   "source": []
  },
  {
   "cell_type": "code",
   "execution_count": null,
   "id": "ca29125b",
   "metadata": {},
   "outputs": [],
   "source": []
  },
  {
   "cell_type": "code",
   "execution_count": null,
   "id": "d9f10b4b",
   "metadata": {},
   "outputs": [],
   "source": []
  },
  {
   "cell_type": "code",
   "execution_count": null,
   "id": "907ec78e",
   "metadata": {},
   "outputs": [],
   "source": []
  }
 ],
 "metadata": {
  "kernelspec": {
   "display_name": "Python 3 (ipykernel)",
   "language": "python",
   "name": "python3"
  },
  "language_info": {
   "codemirror_mode": {
    "name": "ipython",
    "version": 3
   },
   "file_extension": ".py",
   "mimetype": "text/x-python",
   "name": "python",
   "nbconvert_exporter": "python",
   "pygments_lexer": "ipython3",
   "version": "3.9.12"
  }
 },
 "nbformat": 4,
 "nbformat_minor": 5
}
